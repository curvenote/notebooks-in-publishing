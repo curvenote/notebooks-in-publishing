{
 "cells": [
  {
   "cell_type": "markdown",
   "id": "e5380ffd-2500-495c-917a-29c4832db46c",
   "metadata": {
    "user_expressions": []
   },
   "source": [
    "---\n",
    "subject: Typography\n",
    "title: Basic math typography\n",
    "subtitle: Examples using markdown\n",
    "---"
   ]
  },
  {
   "cell_type": "markdown",
   "id": "f53209ce-4de3-476b-8aaf-14793ab0b0c1",
   "metadata": {
    "tags": [],
    "user_expressions": []
   },
   "source": [
    "$$\n",
    "w_{t+1} = (1 + r_{t+1}) s(w_t) + y_{t+1}\n",
    "$$"
   ]
  },
  {
   "cell_type": "markdown",
   "id": "7736a7d3-3c6d-4b40-a5f8-afbf2b8da185",
   "metadata": {
    "user_expressions": []
   },
   "source": [
    "Math with a comment in it:\n",
    "\n",
    "$$\n",
    "w_{t+1} = (1 + r_{t+1}) % comment?!\n",
    "s(w_t) + y_{t+1}\n",
    "$$"
   ]
  }
 ],
 "metadata": {
  "kernelspec": {
   "display_name": "Python 3 (ipykernel)",
   "language": "python",
   "name": "python3"
  },
  "language_info": {
   "codemirror_mode": {
    "name": "ipython",
    "version": 3
   },
   "file_extension": ".py",
   "mimetype": "text/x-python",
   "name": "python",
   "nbconvert_exporter": "python",
   "pygments_lexer": "ipython3",
   "version": "3.9.7"
  }
 },
 "nbformat": 4,
 "nbformat_minor": 5
}
