{
 "cells": [
  {
   "cell_type": "markdown",
   "id": "e5380ffd-2500-495c-917a-29c4832db46c",
   "metadata": {
    "user_expressions": []
   },
   "source": [
    "---\n",
    "title: Notebook with Inline Execution\n",
    "---"
   ]
  },
  {
   "cell_type": "markdown",
   "id": "234bfd1f-fa01-40dd-8f16-fd6a4792b76a",
   "metadata": {
    "user_expressions": [
     {
      "expression": "1 + 2",
      "result": {
       "data": {
        "text/plain": "3"
       },
       "metadata": {},
       "status": "ok"
      }
     }
    ]
   },
   "source": [
    "This notebook has a simple example of inline evaluation:\n",
    "\n",
    "{eval}`1 + 2`"
   ]
  }
 ],
 "metadata": {
  "kernelspec": {
   "display_name": "Python 3 (ipykernel)",
   "language": "python",
   "name": "python3"
  },
  "language_info": {
   "codemirror_mode": {
    "name": "ipython",
    "version": 3
   },
   "file_extension": ".py",
   "mimetype": "text/x-python",
   "name": "python",
   "nbconvert_exporter": "python",
   "pygments_lexer": "ipython3",
   "version": "3.10.0"
  }
 },
 "nbformat": 4,
 "nbformat_minor": 5
}
