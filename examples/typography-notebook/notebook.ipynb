{
 "cells": [
  {
   "cell_type": "markdown",
   "id": "e5380ffd-2500-495c-917a-29c4832db46c",
   "metadata": {
    "user_expressions": []
   },
   "source": [
    "---\n",
    "subject: Typography\n",
    "title: Basic markdown typography\n",
    "subtitle: Examples using markdown\n",
    "---"
   ]
  },
  {
   "cell_type": "markdown",
   "id": "f53209ce-4de3-476b-8aaf-14793ab0b0c1",
   "metadata": {
    "tags": [],
    "user_expressions": []
   },
   "source": [
    "## Inline Text Formatting\n",
    "\n",
    "**strong**, _emphasis_, `literal text`, \\*escaped symbols\\*\n",
    "\n",
    "## Lists\n",
    "\n",
    "- Lists can start with `-` or `*`\n",
    "  * My other, nested\n",
    "  * bullet point list!\n",
    "\n",
    "1. My numbered list\n",
    "2. has two points\n",
    "\n",
    "## Definition Lists\n",
    "\n",
    "Term 1\n",
    ": Definition\n",
    "\n",
    "Term 2\n",
    ": Definition\n",
    "\n",
    "## Footnotes\n",
    "\n",
    "- A footnote reference[^myref]\n",
    "- Manually-numbered footnote reference[^3]\n",
    "\n",
    "[^myref]: This is an auto-numbered footnote definition.\n",
    "[^3]: This is a manually-numbered footnote definition."
   ]
  }
 ],
 "metadata": {
  "kernelspec": {
   "display_name": "Python 3 (ipykernel)",
   "language": "python",
   "name": "python3"
  },
  "language_info": {
   "codemirror_mode": {
    "name": "ipython",
    "version": 3
   },
   "file_extension": ".py",
   "mimetype": "text/x-python",
   "name": "python",
   "nbconvert_exporter": "python",
   "pygments_lexer": "ipython3",
   "version": "3.9.7"
  }
 },
 "nbformat": 4,
 "nbformat_minor": 5
}
