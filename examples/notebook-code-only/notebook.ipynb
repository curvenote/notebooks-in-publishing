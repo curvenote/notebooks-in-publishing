{
 "cells": [
  {
   "cell_type": "markdown",
   "id": "e5380ffd-2500-495c-917a-29c4832db46c",
   "metadata": {
    "user_expressions": []
   },
   "source": [
    "---\n",
    "title: Notebook with Code Only\n",
    "---"
   ]
  },
  {
   "cell_type": "code",
   "execution_count": 1,
   "id": "f66c4963-090b-4778-978a-23e90f4a8cec",
   "metadata": {},
   "outputs": [
    {
     "name": "stdout",
     "output_type": "stream",
     "text": [
      "this notebook only has code\n"
     ]
    }
   ],
   "source": [
    "print('this notebook only has code')"
   ]
  }
 ],
 "metadata": {
  "kernelspec": {
   "display_name": "Python 3 (ipykernel)",
   "language": "python",
   "name": "python3"
  },
  "language_info": {
   "codemirror_mode": {
    "name": "ipython",
    "version": 3
   },
   "file_extension": ".py",
   "mimetype": "text/x-python",
   "name": "python",
   "nbconvert_exporter": "python",
   "pygments_lexer": "ipython3",
   "version": "3.10.0"
  }
 },
 "nbformat": 4,
 "nbformat_minor": 5
}
