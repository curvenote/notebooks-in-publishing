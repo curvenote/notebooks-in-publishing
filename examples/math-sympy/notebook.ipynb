{
 "cells": [
  {
   "cell_type": "markdown",
   "id": "71a891b7-895e-4ee0-9421-f13ac117fca7",
   "metadata": {},
   "source": [
    "---\n",
    "subject: Math\n",
    "title: Math Outputs\n",
    "subtitle: Examples using sympy\n",
    "---"
   ]
  },
  {
   "cell_type": "code",
   "execution_count": 3,
   "id": "7ad612be-250c-40fe-b9d9-8df5a3be528e",
   "metadata": {},
   "outputs": [],
   "source": [
    "from sympy import symbols, expand\n",
    "x, y = symbols('x y')\n",
    "expr = x + 2*y\n",
    "polinomial = x*expr"
   ]
  },
  {
   "cell_type": "code",
   "execution_count": 4,
   "id": "8e6e1b2e-1475-4a75-89eb-f3751aa92c46",
   "metadata": {},
   "outputs": [
    {
     "data": {
      "text/latex": [
       "$\\displaystyle x^{2} + 2 x y$"
      ],
      "text/plain": [
       "x**2 + 2*x*y"
      ]
     },
     "execution_count": 4,
     "metadata": {},
     "output_type": "execute_result"
    }
   ],
   "source": [
    "expand(polinomial)"
   ]
  }
 ],
 "metadata": {
  "kernelspec": {
   "display_name": "Python 3 (ipykernel)",
   "language": "python",
   "name": "python3"
  },
  "language_info": {
   "codemirror_mode": {
    "name": "ipython",
    "version": 3
   },
   "file_extension": ".py",
   "mimetype": "text/x-python",
   "name": "python",
   "nbconvert_exporter": "python",
   "pygments_lexer": "ipython3",
   "version": "3.9.7"
  }
 },
 "nbformat": 4,
 "nbformat_minor": 5
}
